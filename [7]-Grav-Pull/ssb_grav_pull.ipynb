{
 "cells": [
  {
   "cell_type": "code",
   "execution_count": 1,
   "metadata": {},
   "outputs": [
    {
     "name": "stdout",
     "output_type": "stream",
     "text": [
      "Init time in UTC: 2000-01-01T00:00:00\n",
      "End time in UTC: 2027-05-19T00:00:00\n"
     ]
    }
   ],
   "source": [
    "# Import modules\n",
    "import datetime\n",
    "\n",
    "from matplotlib import pyplot as plt\n",
    "import numpy as np\n",
    "import pandas as pd\n",
    "import spiceypy\n",
    "\n",
    "# Load the SPICE kernels via a meta file\n",
    "spiceypy.furnsh('kernel_meta.txt')\n",
    "\n",
    "# We want to compute miscellaneous positions w.r.t. the centre of\n",
    "# the Sun for a certain time interval.\n",
    "# First, we set an initial time in UTC.\n",
    "init_time_utc = datetime.datetime(year=2000, month=1, day=1, \\\n",
    "                                  hour=0, minute=0, second=0)\n",
    "\n",
    "# Add a number of days; you can play around with the datetime variables; but\n",
    "# leave it as it is for the first try, since other computations and comments\n",
    "# are based on this value.\n",
    "delta_days = 10000\n",
    "end_time_utc = init_time_utc + datetime.timedelta(days=delta_days)\n",
    "\n",
    "# Convert the datetime objects now to strings\n",
    "init_time_utc_str = init_time_utc.strftime('%Y-%m-%dT%H:%H:%S')\n",
    "end_time_utc_str = end_time_utc.strftime('%Y-%m-%dT%H:%H:%S')\n",
    "\n",
    "# Print the starting and end times\n",
    "print(f'Init time in UTC: {init_time_utc_str}')\n",
    "print(f'End time in UTC: {end_time_utc_str}')\n",
    "\n",
    "# Convert to Ephemeris Time (ET) using the SPICE function utc2et\n",
    "init_time_et = spiceypy.utc2et(init_time_utc_str)\n",
    "end_time_et = spiceypy.utc2et(end_time_utc_str)\n",
    "\n",
    "# Create a numpy array that covers a time interval in delta = 1 day step\n",
    "time_interval_et = np.linspace(init_time_et, end_time_et, delta_days)"
   ]
  },
  {
   "cell_type": "code",
   "execution_count": 2,
   "metadata": {},
   "outputs": [],
   "source": [
    "# Using km is not intuitive. AU would scale it too severely. Since we compute\n",
    "# the Solar System Barycentre (SSB) w.r.t. the Sun; and since we expect it to\n",
    "# be close to the Sun, we scale the x, y, z component w.r.t the radius of the\n",
    "# Sun. We extract the Sun radii (x, y, z components of the Sun ellipsoid) and\n",
    "# use the x component\n",
    "_, radii_sun = spiceypy.bodvcd(bodyid=10, item='RADII', maxn=3)\n",
    "\n",
    "radius_sun = radii_sun[0]"
   ]
  }
 ],
 "metadata": {
  "interpreter": {
   "hash": "aee8b7b246df8f9039afb4144a1f6fd8d2ca17a180786b69acc140d282b71a49"
  },
  "kernelspec": {
   "display_name": "Python 3.9.7 64-bit",
   "name": "python3"
  },
  "language_info": {
   "codemirror_mode": {
    "name": "ipython",
    "version": 3
   },
   "file_extension": ".py",
   "mimetype": "text/x-python",
   "name": "python",
   "nbconvert_exporter": "python",
   "pygments_lexer": "ipython3",
   "version": "3.9.7"
  }
 },
 "nbformat": 4,
 "nbformat_minor": 4
}
