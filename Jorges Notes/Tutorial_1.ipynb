{
 "cells": [
  {
   "cell_type": "code",
   "execution_count": 4,
   "metadata": {},
   "outputs": [],
   "source": [
    "# Import the SPICE module\n",
    "import spiceypy"
   ]
  },
  {
   "cell_type": "code",
   "execution_count": 5,
   "metadata": {},
   "outputs": [],
   "source": [
    "# We want to determine the position of our home planet with respect to the Sun.\n",
    "# The datetime shall be set as \"today\" (midnight). SPICE requires the\n",
    "# Ephemeris Time (ET); thus, we need to convert a UTC datetime string to ET.\n",
    "\n",
    "import datetime\n",
    "\n",
    "# get today's date\n",
    "DATE_TODAY = datetime.datetime.today()\n",
    "\n",
    "# convert the datetime to a string, replacing the time with midnight\n",
    "DATE_TODAY = DATE_TODAY.strftime('%Y-%m-%dT00:00:00')\n",
    "\n",
    "# convert the utc midnight string to the corresponding ET\n",
    "spiceypy.furnsh('../kernels/lsk/naif0012.tls') #<-- This is needed.\n",
    "ET_TODAY_MIDNIGHT = spiceypy.utc2et(DATE_TODAY)"
   ]
  },
  {
   "cell_type": "code",
   "execution_count": 8,
   "metadata": {},
   "outputs": [],
   "source": [
    "# To compute now the position and velocity (so called state) of the Earth\n",
    "# with respect to the Sun, we use the following function to determine the\n",
    "# state vector and the so called light time (travel time of the light between \n",
    "# the Sun and our home planet). Positions are always given in km, velocities \n",
    "# in km/s and times in seconds\n",
    "\n",
    "#First we load the kernel for positional information first:\n",
    "spiceypy.furnsh('../kernels/spk/de432s.bsp')\n",
    "\n",
    "# targ : Object that shall be pointed at (399 := Earth)\n",
    "# et : The ET of the computation (Set for today)\n",
    "# ref : The reference frame. Here, it is ECLIPJ2000 (the ecliptic plane of the Earth)\n",
    "# obs :  The observer respectively the center of our state vector computation (10 := Sun)\n",
    "EARTH_STATE_WRT_SUN, EARTH_SUN_LT = spiceypy.spkgeo(targ=399, \\\n",
    "                                                    et=ET_TODAY_MIDNIGHT, \\\n",
    "                                                    ref='ECLIPJ2000', \\\n",
    "                                                    obs=10)"
   ]
  },
  {
   "cell_type": "code",
   "execution_count": 19,
   "metadata": {},
   "outputs": [
    {
     "name": "stdout",
     "output_type": "stream",
     "text": [
      "[-1.47245097e+08  2.04697645e+07 -5.72276764e+02 -4.57590066e+00\n",
      " -2.96141750e+01  9.30806649e-04]\n"
     ]
    }
   ],
   "source": [
    "#The first 3 values are the x, y, z components in km. \n",
    "#The last 3 values are the corresponding velocity components in km/s.\n",
    "print(EARTH_STATE_WRT_SUN)"
   ]
  },
  {
   "cell_type": "code",
   "execution_count": 20,
   "metadata": {},
   "outputs": [
    {
     "name": "stdout",
     "output_type": "stream",
     "text": [
      "8.264668887624136\n"
     ]
    }
   ],
   "source": [
    "# Is the one-way light time from the observing body\n",
    "# to the geometric position of the target body\n",
    "# in seconds at the specified epoch.\n",
    "# It should be around 8mins\n",
    "print(EARTH_SUN_LT/60)"
   ]
  },
  {
   "cell_type": "code",
   "execution_count": 11,
   "metadata": {},
   "outputs": [
    {
     "name": "stdout",
     "output_type": "stream",
     "text": [
      "Current distance between the Earth and the Sun in AU: 0.9937382357968857\n"
     ]
    }
   ],
   "source": [
    "# The (Euclidean) distance should be around 1 AU. Why \"around\"? Well the Earth\n",
    "# revolves the Sun in a slightly non-perfect circle (elliptic orbit). First, \n",
    "# we compute the distance in km.\n",
    "import math\n",
    "EARTH_SUN_DISTANCE = math.sqrt(EARTH_STATE_WRT_SUN[0]**2.0 \\\n",
    "                             + EARTH_STATE_WRT_SUN[1]**2.0 \\\n",
    "                             + EARTH_STATE_WRT_SUN[2]**2.0)\n",
    "\n",
    "# Convert the distance in astronomical units (1 AU)\n",
    "# Instead of searching for the \"most recent\" value, we use the default value\n",
    "# in SPICE. This way, we can easily compare our results with the results of \n",
    "# others.\n",
    "EARTH_SUN_DISTANCE_AU = spiceypy.convrt(EARTH_SUN_DISTANCE, 'km', 'AU')\n",
    "\n",
    "# Cool, it works!\n",
    "print('Current distance between the Earth and the Sun in AU:', \\\n",
    "      EARTH_SUN_DISTANCE_AU)"
   ]
  },
  {
   "cell_type": "code",
   "execution_count": 12,
   "metadata": {},
   "outputs": [
    {
     "name": "stdout",
     "output_type": "stream",
     "text": [
      "Current orbital speed of the Earth around the Sun in km/s: 29.96561742728447\n"
     ]
    }
   ],
   "source": [
    "#Lets comute the oribital speed of the Earth in km/s\n",
    "# First, we compute the actual orbital speed of the Earth around the Sun\n",
    "EARTH_ORB_SPEED_WRT_SUN = math.sqrt(EARTH_STATE_WRT_SUN[3]**2.0 \\\n",
    "                                  + EARTH_STATE_WRT_SUN[4]**2.0 \\\n",
    "                                  + EARTH_STATE_WRT_SUN[5]**2.0)\n",
    "\n",
    "# It's around 30 km/s\n",
    "print('Current orbital speed of the Earth around the Sun in km/s:', \\\n",
    "      EARTH_ORB_SPEED_WRT_SUN)"
   ]
  },
  {
   "cell_type": "markdown",
   "metadata": {},
   "source": [
    "Now we get the theoretical earth orbital speed:"
   ]
  },
  {
   "cell_type": "code",
   "execution_count": 14,
   "metadata": {},
   "outputs": [
    {
     "name": "stdout",
     "output_type": "stream",
     "text": [
      "Theoretical orbital speed of the Earth around the Sun in km/s: 29.87838444261713\n"
     ]
    }
   ],
   "source": [
    "# Now let's compute the theoretical expectation. First, we load a pck file\n",
    "# that contain miscellanoeus information, like the G*M values for different\n",
    "# objects\n",
    "\n",
    "# First, load the kernel\n",
    "spiceypy.furnsh('../kernels/pck/gm_de431.tpc')\n",
    "_, GM_SUN = spiceypy.bodvcd(bodyid=10, item='GM', maxn=1)\n",
    "\n",
    "# Now compute the orbital speed\n",
    "V_ORB_FUNC = lambda gm, r: math.sqrt(gm/r)\n",
    "EARTH_ORB_SPEED_WRT_SUN_THEORY = V_ORB_FUNC(GM_SUN[0], EARTH_SUN_DISTANCE)\n",
    "\n",
    "# Print the result\n",
    "print('Theoretical orbital speed of the Earth around the Sun in km/s:', \\\n",
    "      EARTH_ORB_SPEED_WRT_SUN_THEORY)"
   ]
  }
 ],
 "metadata": {
  "interpreter": {
   "hash": "ecc7d601b4b91f80585254cd6ee65dcc46ecacc177918d812599624441a562dc"
  },
  "kernelspec": {
   "display_name": "Python 3.6.4 ('SpaceScience')",
   "language": "python",
   "name": "python3"
  },
  "language_info": {
   "codemirror_mode": {
    "name": "ipython",
    "version": 3
   },
   "file_extension": ".py",
   "mimetype": "text/x-python",
   "name": "python",
   "nbconvert_exporter": "python",
   "pygments_lexer": "ipython3",
   "version": "3.6.4"
  },
  "orig_nbformat": 4
 },
 "nbformat": 4,
 "nbformat_minor": 2
}
