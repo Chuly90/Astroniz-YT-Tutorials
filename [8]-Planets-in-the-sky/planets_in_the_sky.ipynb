{
 "cells": [
  {
   "cell_type": "code",
   "execution_count": 2,
   "metadata": {},
   "outputs": [],
   "source": [
    "# Import modules\n",
    "import datetime\n",
    "import spiceypy\n",
    "import numpy as np\n",
    "import pandas as pd\n",
    "\n",
    "# Load the SPICE kernels via a meta file\n",
    "spiceypy.furnsh('kernel_meta.txt')\n",
    "\n",
    "# Create an initial and ending time date-time object that is converted to a\n",
    "# string\n",
    "init_time_utc_str = datetime.datetime(year=2021, month=10, day=1).strftime('%Y-%m-%dT%H:%M:%S')\n",
    "end_time_utc_str = datetime.datetime(year=2022, month=6, day=1).strftime('%Y-%m-%dT%H:%M:%S')\n",
    "\n",
    "# Convert to Ephemeris Time (ET) using the SPICE function utc2et\n",
    "init_time_et = spiceypy.utc2et(init_time_utc_str)\n",
    "end_time_et = spiceypy.utc2et(end_time_utc_str)\n",
    "\n",
    "# Set the number of seconds per hours. This value is used to compute the phase\n",
    "# angles in 1 hour steps (the ET is given in seconds)\n",
    "delta_hour_in_seconds = 3600.0\n",
    "time_interval_et = np.arange(init_time_et, end_time_et, delta_hour_in_seconds)"
   ]
  },
  {
   "cell_type": "code",
   "execution_count": 3,
   "metadata": {},
   "outputs": [],
   "source": [
    "# All our computed parameters, positions etc. shall be stored in a pandas\n",
    "# dataframe. First, we create an empty one\n",
    "inner_solsys_df = pd.DataFrame()\n",
    "\n",
    "# Set the column ET that stores all ETs\n",
    "inner_solsys_df.loc[:, 'ET'] = time_interval_et\n",
    "\n",
    "# The column UTC transforms all ETs back to a UTC format. The function\n",
    "# spicepy.et2datetime is NOT an official part of SPICE (there you can find\n",
    "# et2utc).\n",
    "# However this function returns immediately a date-time object\n",
    "inner_solsys_df.loc[:, 'UTC'] = \\\n",
    "    inner_solsys_df['ET'].apply(lambda x: spiceypy.et2datetime(et=x))"
   ]
  }
 ],
 "metadata": {
  "interpreter": {
   "hash": "aee8b7b246df8f9039afb4144a1f6fd8d2ca17a180786b69acc140d282b71a49"
  },
  "kernelspec": {
   "display_name": "Python 3.9.7 64-bit",
   "name": "python3"
  },
  "language_info": {
   "codemirror_mode": {
    "name": "ipython",
    "version": 3
   },
   "file_extension": ".py",
   "mimetype": "text/x-python",
   "name": "python",
   "nbconvert_exporter": "python",
   "pygments_lexer": "ipython3",
   "version": "3.9.7"
  }
 },
 "nbformat": 4,
 "nbformat_minor": 4
}
